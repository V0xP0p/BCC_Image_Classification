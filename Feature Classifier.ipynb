{
 "cells": [
  {
   "cell_type": "markdown",
   "source": [
    "# Classifier based on the metadata of the BCC image set"
   ],
   "metadata": {
    "collapsed": false
   }
  },
  {
   "cell_type": "markdown",
   "source": [
    "### Imports"
   ],
   "metadata": {
    "collapsed": false
   }
  },
  {
   "cell_type": "code",
   "execution_count": 1,
   "metadata": {
    "collapsed": true
   },
   "outputs": [
    {
     "name": "stdout",
     "output_type": "stream",
     "text": [
      "Main module did not execute\n"
     ]
    }
   ],
   "source": [
    "import numpy as np\n",
    "import pandas as pd\n",
    "import matplotlib.pyplot as plt\n",
    "from sklearn.model_selection import StratifiedKFold\n",
    "from sklearn.svm import SVC\n",
    "from sklearn.ensemble import RandomForestClassifier, AdaBoostClassifier\n",
    "from xgboost import XGBClassifier\n",
    "from utils import split_data, get_metrics, get_classifier"
   ]
  },
  {
   "cell_type": "markdown",
   "source": [
    "### Config"
   ],
   "metadata": {
    "collapsed": false
   }
  },
  {
   "cell_type": "code",
   "execution_count": 2,
   "outputs": [],
   "source": [
    "SEED = 1369 # random seed to be used throughout\n",
    "SPLITS = 10 # number of folds the data will be split\n",
    "SPLIT_STRATEGY = 'StratifiedKFold' # strategy to split train/test data\n",
    "\n",
    "NAMES = ['SVM', 'Random Forest', 'AdaBoost', 'XGBoost']\n",
    "CLASSIFIERS = [SVC(probability=True),\n",
    "               RandomForestClassifier(max_depth=5, n_estimators=10, max_features=1),\n",
    "               AdaBoostClassifier(), XGBClassifier(learning_rate=0.02, n_estimators=600, silent=True, nthread=1)]"
   ],
   "metadata": {
    "collapsed": false,
    "pycharm": {
     "name": "#%%\n"
    }
   }
  },
  {
   "cell_type": "markdown",
   "source": [
    "### Load data"
   ],
   "metadata": {
    "collapsed": false
   }
  },
  {
   "cell_type": "code",
   "execution_count": 3,
   "outputs": [],
   "source": [
    "df = pd.read_csv('prepared_dataset.csv', index_col=0)\n",
    "\n",
    "train_df = df.loc[:, 'Sex':'Age 90+']\n",
    "labels_df = df.loc[:, 'Basosquamous':'Low Risk']"
   ],
   "metadata": {
    "collapsed": false,
    "pycharm": {
     "name": "#%%\n"
    }
   }
  },
  {
   "cell_type": "code",
   "execution_count": 4,
   "outputs": [
    {
     "data": {
      "text/plain": "   Sex  Feature 0  Feature 1  Feature 2  Feature 3  Feature 4  Feature 5  \\\n0    0          0          1          0          1          0          1   \n1    0          0          1          0          0          0          1   \n2    0          0          0          0          1          1          0   \n3    0          0          0          0          0          0          1   \n4    0          1          0          0          0          0          1   \n\n   Feature 6  Feature 7  Feature 8  ...  Upper Extremities  Lower Extremities  \\\n0          1          1        0.0  ...                  0                  0   \n1          0          0        1.0  ...                  0                  0   \n2          0          0        1.0  ...                  0                  0   \n3          0          0        1.0  ...                  0                  0   \n4          0          1        1.0  ...                  0                  0   \n\n   Age 0-30  Age 30-40  Age 40-50  Age 50-60  Age 60-70  Age 70-80  Age 80-90  \\\n0         0          0          0          0          0          1          0   \n1         0          0          1          0          0          0          0   \n2         0          0          0          0          0          1          0   \n3         0          0          0          0          0          1          0   \n4         0          1          0          0          0          0          0   \n\n   Age 90+  \n0        0  \n1        0  \n2        0  \n3        0  \n4        0  \n\n[5 rows x 23 columns]",
      "text/html": "<div>\n<style scoped>\n    .dataframe tbody tr th:only-of-type {\n        vertical-align: middle;\n    }\n\n    .dataframe tbody tr th {\n        vertical-align: top;\n    }\n\n    .dataframe thead th {\n        text-align: right;\n    }\n</style>\n<table border=\"1\" class=\"dataframe\">\n  <thead>\n    <tr style=\"text-align: right;\">\n      <th></th>\n      <th>Sex</th>\n      <th>Feature 0</th>\n      <th>Feature 1</th>\n      <th>Feature 2</th>\n      <th>Feature 3</th>\n      <th>Feature 4</th>\n      <th>Feature 5</th>\n      <th>Feature 6</th>\n      <th>Feature 7</th>\n      <th>Feature 8</th>\n      <th>...</th>\n      <th>Upper Extremities</th>\n      <th>Lower Extremities</th>\n      <th>Age 0-30</th>\n      <th>Age 30-40</th>\n      <th>Age 40-50</th>\n      <th>Age 50-60</th>\n      <th>Age 60-70</th>\n      <th>Age 70-80</th>\n      <th>Age 80-90</th>\n      <th>Age 90+</th>\n    </tr>\n  </thead>\n  <tbody>\n    <tr>\n      <th>0</th>\n      <td>0</td>\n      <td>0</td>\n      <td>1</td>\n      <td>0</td>\n      <td>1</td>\n      <td>0</td>\n      <td>1</td>\n      <td>1</td>\n      <td>1</td>\n      <td>0.0</td>\n      <td>...</td>\n      <td>0</td>\n      <td>0</td>\n      <td>0</td>\n      <td>0</td>\n      <td>0</td>\n      <td>0</td>\n      <td>0</td>\n      <td>1</td>\n      <td>0</td>\n      <td>0</td>\n    </tr>\n    <tr>\n      <th>1</th>\n      <td>0</td>\n      <td>0</td>\n      <td>1</td>\n      <td>0</td>\n      <td>0</td>\n      <td>0</td>\n      <td>1</td>\n      <td>0</td>\n      <td>0</td>\n      <td>1.0</td>\n      <td>...</td>\n      <td>0</td>\n      <td>0</td>\n      <td>0</td>\n      <td>0</td>\n      <td>1</td>\n      <td>0</td>\n      <td>0</td>\n      <td>0</td>\n      <td>0</td>\n      <td>0</td>\n    </tr>\n    <tr>\n      <th>2</th>\n      <td>0</td>\n      <td>0</td>\n      <td>0</td>\n      <td>0</td>\n      <td>1</td>\n      <td>1</td>\n      <td>0</td>\n      <td>0</td>\n      <td>0</td>\n      <td>1.0</td>\n      <td>...</td>\n      <td>0</td>\n      <td>0</td>\n      <td>0</td>\n      <td>0</td>\n      <td>0</td>\n      <td>0</td>\n      <td>0</td>\n      <td>1</td>\n      <td>0</td>\n      <td>0</td>\n    </tr>\n    <tr>\n      <th>3</th>\n      <td>0</td>\n      <td>0</td>\n      <td>0</td>\n      <td>0</td>\n      <td>0</td>\n      <td>0</td>\n      <td>1</td>\n      <td>0</td>\n      <td>0</td>\n      <td>1.0</td>\n      <td>...</td>\n      <td>0</td>\n      <td>0</td>\n      <td>0</td>\n      <td>0</td>\n      <td>0</td>\n      <td>0</td>\n      <td>0</td>\n      <td>1</td>\n      <td>0</td>\n      <td>0</td>\n    </tr>\n    <tr>\n      <th>4</th>\n      <td>0</td>\n      <td>1</td>\n      <td>0</td>\n      <td>0</td>\n      <td>0</td>\n      <td>0</td>\n      <td>1</td>\n      <td>0</td>\n      <td>1</td>\n      <td>1.0</td>\n      <td>...</td>\n      <td>0</td>\n      <td>0</td>\n      <td>0</td>\n      <td>1</td>\n      <td>0</td>\n      <td>0</td>\n      <td>0</td>\n      <td>0</td>\n      <td>0</td>\n      <td>0</td>\n    </tr>\n  </tbody>\n</table>\n<p>5 rows × 23 columns</p>\n</div>"
     },
     "execution_count": 4,
     "metadata": {},
     "output_type": "execute_result"
    }
   ],
   "source": [
    "train_df.head()"
   ],
   "metadata": {
    "collapsed": false,
    "pycharm": {
     "name": "#%%\n"
    }
   }
  },
  {
   "cell_type": "code",
   "execution_count": 5,
   "outputs": [
    {
     "name": "stdout",
     "output_type": "stream",
     "text": [
      "<class 'pandas.core.frame.DataFrame'>\n",
      "Int64Index: 842 entries, 0 to 841\n",
      "Data columns (total 23 columns):\n",
      " #   Column             Non-Null Count  Dtype  \n",
      "---  ------             --------------  -----  \n",
      " 0   Sex                842 non-null    int64  \n",
      " 1   Feature 0          842 non-null    int64  \n",
      " 2   Feature 1          842 non-null    int64  \n",
      " 3   Feature 2          842 non-null    int64  \n",
      " 4   Feature 3          842 non-null    int64  \n",
      " 5   Feature 4          842 non-null    int64  \n",
      " 6   Feature 5          842 non-null    int64  \n",
      " 7   Feature 6          842 non-null    int64  \n",
      " 8   Feature 7          842 non-null    int64  \n",
      " 9   Feature 8          842 non-null    float64\n",
      " 10  Feature 9          842 non-null    int64  \n",
      " 11  Head/Neck          842 non-null    int64  \n",
      " 12  Trunk              842 non-null    int64  \n",
      " 13  Upper Extremities  842 non-null    int64  \n",
      " 14  Lower Extremities  842 non-null    int64  \n",
      " 15  Age 0-30           842 non-null    int64  \n",
      " 16  Age 30-40          842 non-null    int64  \n",
      " 17  Age 40-50          842 non-null    int64  \n",
      " 18  Age 50-60          842 non-null    int64  \n",
      " 19  Age 60-70          842 non-null    int64  \n",
      " 20  Age 70-80          842 non-null    int64  \n",
      " 21  Age 80-90          842 non-null    int64  \n",
      " 22  Age 90+            842 non-null    int64  \n",
      "dtypes: float64(1), int64(22)\n",
      "memory usage: 157.9 KB\n"
     ]
    }
   ],
   "source": [
    "train_df.info()"
   ],
   "metadata": {
    "collapsed": false,
    "pycharm": {
     "name": "#%%\n"
    }
   }
  },
  {
   "cell_type": "code",
   "execution_count": 6,
   "outputs": [
    {
     "name": "stdout",
     "output_type": "stream",
     "text": [
      "<class 'pandas.core.frame.DataFrame'>\n",
      "Int64Index: 842 entries, 0 to 841\n",
      "Data columns (total 23 columns):\n",
      " #   Column             Non-Null Count  Dtype\n",
      "---  ------             --------------  -----\n",
      " 0   Sex                842 non-null    int64\n",
      " 1   Feature 0          842 non-null    int64\n",
      " 2   Feature 1          842 non-null    int64\n",
      " 3   Feature 2          842 non-null    int64\n",
      " 4   Feature 3          842 non-null    int64\n",
      " 5   Feature 4          842 non-null    int64\n",
      " 6   Feature 5          842 non-null    int64\n",
      " 7   Feature 6          842 non-null    int64\n",
      " 8   Feature 7          842 non-null    int64\n",
      " 9   Feature 8          842 non-null    int32\n",
      " 10  Feature 9          842 non-null    int64\n",
      " 11  Head/Neck          842 non-null    int64\n",
      " 12  Trunk              842 non-null    int64\n",
      " 13  Upper Extremities  842 non-null    int64\n",
      " 14  Lower Extremities  842 non-null    int64\n",
      " 15  Age 0-30           842 non-null    int64\n",
      " 16  Age 30-40          842 non-null    int64\n",
      " 17  Age 40-50          842 non-null    int64\n",
      " 18  Age 50-60          842 non-null    int64\n",
      " 19  Age 60-70          842 non-null    int64\n",
      " 20  Age 70-80          842 non-null    int64\n",
      " 21  Age 80-90          842 non-null    int64\n",
      " 22  Age 90+            842 non-null    int64\n",
      "dtypes: int32(1), int64(22)\n",
      "memory usage: 154.6 KB\n"
     ]
    }
   ],
   "source": [
    "train_df['Feature 8'] = train_df['Feature 8'].astype(int)\n",
    "train_df.info()"
   ],
   "metadata": {
    "collapsed": false,
    "pycharm": {
     "name": "#%%\n"
    }
   }
  },
  {
   "cell_type": "code",
   "execution_count": 7,
   "outputs": [
    {
     "data": {
      "text/plain": "   Basosquamous  Infiltrating  Micronodular  Morphea  Superficial  Low Risk\n0             0             0             0        0            0         1\n1             0             0             0        0            0         1\n2             0             0             0        0            0         1\n3             0             0             0        0            1         0\n4             0             0             0        0            0         1",
      "text/html": "<div>\n<style scoped>\n    .dataframe tbody tr th:only-of-type {\n        vertical-align: middle;\n    }\n\n    .dataframe tbody tr th {\n        vertical-align: top;\n    }\n\n    .dataframe thead th {\n        text-align: right;\n    }\n</style>\n<table border=\"1\" class=\"dataframe\">\n  <thead>\n    <tr style=\"text-align: right;\">\n      <th></th>\n      <th>Basosquamous</th>\n      <th>Infiltrating</th>\n      <th>Micronodular</th>\n      <th>Morphea</th>\n      <th>Superficial</th>\n      <th>Low Risk</th>\n    </tr>\n  </thead>\n  <tbody>\n    <tr>\n      <th>0</th>\n      <td>0</td>\n      <td>0</td>\n      <td>0</td>\n      <td>0</td>\n      <td>0</td>\n      <td>1</td>\n    </tr>\n    <tr>\n      <th>1</th>\n      <td>0</td>\n      <td>0</td>\n      <td>0</td>\n      <td>0</td>\n      <td>0</td>\n      <td>1</td>\n    </tr>\n    <tr>\n      <th>2</th>\n      <td>0</td>\n      <td>0</td>\n      <td>0</td>\n      <td>0</td>\n      <td>0</td>\n      <td>1</td>\n    </tr>\n    <tr>\n      <th>3</th>\n      <td>0</td>\n      <td>0</td>\n      <td>0</td>\n      <td>0</td>\n      <td>1</td>\n      <td>0</td>\n    </tr>\n    <tr>\n      <th>4</th>\n      <td>0</td>\n      <td>0</td>\n      <td>0</td>\n      <td>0</td>\n      <td>0</td>\n      <td>1</td>\n    </tr>\n  </tbody>\n</table>\n</div>"
     },
     "execution_count": 7,
     "metadata": {},
     "output_type": "execute_result"
    }
   ],
   "source": [
    "labels_df.head()"
   ],
   "metadata": {
    "collapsed": false,
    "pycharm": {
     "name": "#%%\n"
    }
   }
  },
  {
   "cell_type": "code",
   "execution_count": 8,
   "outputs": [
    {
     "name": "stdout",
     "output_type": "stream",
     "text": [
      "<class 'pandas.core.frame.DataFrame'>\n",
      "Int64Index: 842 entries, 0 to 841\n",
      "Data columns (total 6 columns):\n",
      " #   Column        Non-Null Count  Dtype\n",
      "---  ------        --------------  -----\n",
      " 0   Basosquamous  842 non-null    int64\n",
      " 1   Infiltrating  842 non-null    int64\n",
      " 2   Micronodular  842 non-null    int64\n",
      " 3   Morphea       842 non-null    int64\n",
      " 4   Superficial   842 non-null    int64\n",
      " 5   Low Risk      842 non-null    int64\n",
      "dtypes: int64(6)\n",
      "memory usage: 46.0 KB\n"
     ]
    }
   ],
   "source": [
    "labels_df.info()"
   ],
   "metadata": {
    "collapsed": false,
    "pycharm": {
     "name": "#%%\n"
    }
   }
  },
  {
   "cell_type": "markdown",
   "source": [
    "### Create a second label dataframe by combining high risk subtypes:"
   ],
   "metadata": {
    "collapsed": false
   }
  },
  {
   "cell_type": "code",
   "execution_count": 9,
   "outputs": [
    {
     "data": {
      "text/plain": "        High Risk  Superficial    Low Risk\ncount  842.000000   842.000000  842.000000\nmean     0.133017     0.225653    0.641330\nstd      0.339795     0.418260    0.479895\nmin      0.000000     0.000000    0.000000\n25%      0.000000     0.000000    0.000000\n50%      0.000000     0.000000    1.000000\n75%      0.000000     0.000000    1.000000\nmax      1.000000     1.000000    1.000000",
      "text/html": "<div>\n<style scoped>\n    .dataframe tbody tr th:only-of-type {\n        vertical-align: middle;\n    }\n\n    .dataframe tbody tr th {\n        vertical-align: top;\n    }\n\n    .dataframe thead th {\n        text-align: right;\n    }\n</style>\n<table border=\"1\" class=\"dataframe\">\n  <thead>\n    <tr style=\"text-align: right;\">\n      <th></th>\n      <th>High Risk</th>\n      <th>Superficial</th>\n      <th>Low Risk</th>\n    </tr>\n  </thead>\n  <tbody>\n    <tr>\n      <th>count</th>\n      <td>842.000000</td>\n      <td>842.000000</td>\n      <td>842.000000</td>\n    </tr>\n    <tr>\n      <th>mean</th>\n      <td>0.133017</td>\n      <td>0.225653</td>\n      <td>0.641330</td>\n    </tr>\n    <tr>\n      <th>std</th>\n      <td>0.339795</td>\n      <td>0.418260</td>\n      <td>0.479895</td>\n    </tr>\n    <tr>\n      <th>min</th>\n      <td>0.000000</td>\n      <td>0.000000</td>\n      <td>0.000000</td>\n    </tr>\n    <tr>\n      <th>25%</th>\n      <td>0.000000</td>\n      <td>0.000000</td>\n      <td>0.000000</td>\n    </tr>\n    <tr>\n      <th>50%</th>\n      <td>0.000000</td>\n      <td>0.000000</td>\n      <td>1.000000</td>\n    </tr>\n    <tr>\n      <th>75%</th>\n      <td>0.000000</td>\n      <td>0.000000</td>\n      <td>1.000000</td>\n    </tr>\n    <tr>\n      <th>max</th>\n      <td>1.000000</td>\n      <td>1.000000</td>\n      <td>1.000000</td>\n    </tr>\n  </tbody>\n</table>\n</div>"
     },
     "execution_count": 9,
     "metadata": {},
     "output_type": "execute_result"
    }
   ],
   "source": [
    "cols = labels_df.columns[0:4].values\n",
    "# print(cols)\n",
    "reduced_labels_df = pd.DataFrame()\n",
    "reduced_labels_df['High Risk'] = ((labels_df['Basosquamous'] == 1) | (labels_df['Infiltrating'] == 1) | (labels_df['Micronodular'] == 1) | (labels_df['Morphea'] == 1)).astype(int)\n",
    "reduced_labels_df[['Superficial', 'Low Risk']] = labels_df[['Superficial', 'Low Risk']]\n",
    "reduced_labels_df.describe()"
   ],
   "metadata": {
    "collapsed": false,
    "pycharm": {
     "name": "#%%\n"
    }
   }
  },
  {
   "cell_type": "markdown",
   "source": [
    "### Split the data to k folds"
   ],
   "metadata": {
    "collapsed": false
   }
  },
  {
   "cell_type": "code",
   "execution_count": 14,
   "outputs": [
    {
     "data": {
      "text/plain": "[3.0, 4.0, 5.0, 6.0]"
     },
     "execution_count": 14,
     "metadata": {},
     "output_type": "execute_result"
    }
   ],
   "source": [
    "list1 = [[1, 2, 3, 4], [5, 6, 7, 8]]\n",
    "[sum(i)/2 for i in zip(*list1)]"
   ],
   "metadata": {
    "collapsed": false,
    "pycharm": {
     "name": "#%%\n"
    }
   }
  },
  {
   "cell_type": "code",
   "execution_count": 16,
   "outputs": [
    {
     "name": "stdout",
     "output_type": "stream",
     "text": [
      "Model SVM\n",
      "==================\n",
      "Averages of: Precision | Recall | F1 score |Accuracy | Balanced Accuracy\n",
      "[0.5995589671784274, 0.6864425770308125, 0.6175092661743735, 0.6864425770308125, 0.4386614684860299]\n",
      "Standard Deviation of: Precision | Recall | F1 score |Accuracy | Balanced Accuracy\n",
      "[0.034541341525979145, 0.024697464854146742, 0.024175239161867503, 0.024697464854146742, 0.02746271321589327]\n",
      "Model Random Forest\n",
      "==================\n",
      "Averages of: Precision | Recall | F1 score |Accuracy | Balanced Accuracy\n",
      "[0.5666873507661787, 0.6531932773109245, 0.5419050222239001, 0.6531932773109245, 0.36111111111111105]\n",
      "Standard Deviation of: Precision | Recall | F1 score |Accuracy | Balanced Accuracy\n",
      "[0.05280665400397441, 0.014115646116703223, 0.021049159670088604, 0.014115646116703223, 0.017788377357967466]\n",
      "Model AdaBoost\n",
      "==================\n",
      "Averages of: Precision | Recall | F1 score |Accuracy | Balanced Accuracy\n",
      "[0.5836791828436233, 0.667422969187675, 0.6166470542134627, 0.667422969187675, 0.456214188670329]\n",
      "Standard Deviation of: Precision | Recall | F1 score |Accuracy | Balanced Accuracy\n",
      "[0.03708325966860302, 0.040787536041018, 0.03740552504373261, 0.040787536041018, 0.04014843591952651]\n",
      "Model XGBoost\n",
      "==================\n",
      "[17:50:56] WARNING: C:/Users/Administrator/workspace/xgboost-win64_release_1.6.0/src/learner.cc:627: \n",
      "Parameters: { \"silent\" } might not be used.\n",
      "\n",
      "  This could be a false alarm, with some parameters getting used by language bindings but\n",
      "  then being mistakenly passed down to XGBoost core, or some parameter actually being used\n",
      "  but getting flagged wrongly here. Please open an issue if you find any such cases.\n",
      "\n",
      "\n",
      "[17:50:58] WARNING: C:/Users/Administrator/workspace/xgboost-win64_release_1.6.0/src/learner.cc:627: \n",
      "Parameters: { \"silent\" } might not be used.\n",
      "\n",
      "  This could be a false alarm, with some parameters getting used by language bindings but\n",
      "  then being mistakenly passed down to XGBoost core, or some parameter actually being used\n",
      "  but getting flagged wrongly here. Please open an issue if you find any such cases.\n",
      "\n",
      "\n",
      "[17:50:59] WARNING: C:/Users/Administrator/workspace/xgboost-win64_release_1.6.0/src/learner.cc:627: \n",
      "Parameters: { \"silent\" } might not be used.\n",
      "\n",
      "  This could be a false alarm, with some parameters getting used by language bindings but\n",
      "  then being mistakenly passed down to XGBoost core, or some parameter actually being used\n",
      "  but getting flagged wrongly here. Please open an issue if you find any such cases.\n",
      "\n",
      "\n",
      "[17:51:00] WARNING: C:/Users/Administrator/workspace/xgboost-win64_release_1.6.0/src/learner.cc:627: \n",
      "Parameters: { \"silent\" } might not be used.\n",
      "\n",
      "  This could be a false alarm, with some parameters getting used by language bindings but\n",
      "  then being mistakenly passed down to XGBoost core, or some parameter actually being used\n",
      "  but getting flagged wrongly here. Please open an issue if you find any such cases.\n",
      "\n",
      "\n",
      "[17:51:01] WARNING: C:/Users/Administrator/workspace/xgboost-win64_release_1.6.0/src/learner.cc:627: \n",
      "Parameters: { \"silent\" } might not be used.\n",
      "\n",
      "  This could be a false alarm, with some parameters getting used by language bindings but\n",
      "  then being mistakenly passed down to XGBoost core, or some parameter actually being used\n",
      "  but getting flagged wrongly here. Please open an issue if you find any such cases.\n",
      "\n",
      "\n",
      "[17:51:02] WARNING: C:/Users/Administrator/workspace/xgboost-win64_release_1.6.0/src/learner.cc:627: \n",
      "Parameters: { \"silent\" } might not be used.\n",
      "\n",
      "  This could be a false alarm, with some parameters getting used by language bindings but\n",
      "  then being mistakenly passed down to XGBoost core, or some parameter actually being used\n",
      "  but getting flagged wrongly here. Please open an issue if you find any such cases.\n",
      "\n",
      "\n",
      "[17:51:03] WARNING: C:/Users/Administrator/workspace/xgboost-win64_release_1.6.0/src/learner.cc:627: \n",
      "Parameters: { \"silent\" } might not be used.\n",
      "\n",
      "  This could be a false alarm, with some parameters getting used by language bindings but\n",
      "  then being mistakenly passed down to XGBoost core, or some parameter actually being used\n",
      "  but getting flagged wrongly here. Please open an issue if you find any such cases.\n",
      "\n",
      "\n",
      "[17:51:04] WARNING: C:/Users/Administrator/workspace/xgboost-win64_release_1.6.0/src/learner.cc:627: \n",
      "Parameters: { \"silent\" } might not be used.\n",
      "\n",
      "  This could be a false alarm, with some parameters getting used by language bindings but\n",
      "  then being mistakenly passed down to XGBoost core, or some parameter actually being used\n",
      "  but getting flagged wrongly here. Please open an issue if you find any such cases.\n",
      "\n",
      "\n",
      "[17:51:06] WARNING: C:/Users/Administrator/workspace/xgboost-win64_release_1.6.0/src/learner.cc:627: \n",
      "Parameters: { \"silent\" } might not be used.\n",
      "\n",
      "  This could be a false alarm, with some parameters getting used by language bindings but\n",
      "  then being mistakenly passed down to XGBoost core, or some parameter actually being used\n",
      "  but getting flagged wrongly here. Please open an issue if you find any such cases.\n",
      "\n",
      "\n",
      "[17:51:07] WARNING: C:/Users/Administrator/workspace/xgboost-win64_release_1.6.0/src/learner.cc:627: \n",
      "Parameters: { \"silent\" } might not be used.\n",
      "\n",
      "  This could be a false alarm, with some parameters getting used by language bindings but\n",
      "  then being mistakenly passed down to XGBoost core, or some parameter actually being used\n",
      "  but getting flagged wrongly here. Please open an issue if you find any such cases.\n",
      "\n",
      "\n",
      "Averages of: Precision | Recall | F1 score |Accuracy | Balanced Accuracy\n",
      "[0.5564236988504989, 0.6091596638655461, 0.5754527054314803, 0.6091596638655461, 0.4124608659696379]\n",
      "Standard Deviation of: Precision | Recall | F1 score |Accuracy | Balanced Accuracy\n",
      "[0.033389153460162656, 0.035275282867325126, 0.029625406376440837, 0.035275282867325126, 0.02861446376743118]\n"
     ]
    }
   ],
   "source": [
    "reduced_labels = reduced_labels_df.idxmax(1)\n",
    "\n",
    "reduced_labels = reduced_labels.apply(lambda x: 0 if x == 'Low Risk' else (1 if x == 'Superficial' else 2) )\n",
    "\n",
    "\n",
    "\n",
    "scores = dict()\n",
    "stdev = dict()\n",
    "\n",
    "for name, clf in zip(NAMES, CLASSIFIERS):\n",
    "    print(f\"\\nModel {name}\")\n",
    "    print(\"==================\")\n",
    "    skf = split_data(train_df, reduced_labels, split_strategy='StratifiedKFold', n_splits=SPLITS, shuffle=True, random_state=SEED)\n",
    "    bal_acc = []\n",
    "    fold_scores = []\n",
    "    for (train_idx, test_idx), i in skf:\n",
    "        X_train, y_train, X_test, y_test = train_df.iloc[train_idx], reduced_labels.iloc[train_idx], train_df.iloc[test_idx], reduced_labels.iloc[test_idx]\n",
    "        clf.fit(X_train, y_train)\n",
    "        # print(f\"Fold {i}\")\n",
    "        # print(\"----------------------------\")\n",
    "        y_pred = clf.predict(X_test)\n",
    "        fold_scores.append(get_metrics(y_test, y_pred, verbose=False, filename=None))\n",
    "\n",
    "    scores[name] = [sum(i)/SPLITS for i in zip(*fold_scores)]\n",
    "    stdev[name] = [np.std(i) for i in zip(*fold_scores)]\n",
    "    print(\"Averages of: Precision | Recall | F1 score | Accuracy | Balanced Accuracy\")\n",
    "    print(scores[name])\n",
    "    print(\"Standard Deviation of: Precision | Recall | F1 score | Accuracy | Balanced Accuracy\")\n",
    "    print(stdev[name])\n",
    "\n"
   ],
   "metadata": {
    "collapsed": false,
    "pycharm": {
     "name": "#%%\n"
    }
   }
  }
 ],
 "metadata": {
  "kernelspec": {
   "display_name": "Python 3",
   "language": "python",
   "name": "python3"
  },
  "language_info": {
   "codemirror_mode": {
    "name": "ipython",
    "version": 2
   },
   "file_extension": ".py",
   "mimetype": "text/x-python",
   "name": "python",
   "nbconvert_exporter": "python",
   "pygments_lexer": "ipython2",
   "version": "2.7.6"
  }
 },
 "nbformat": 4,
 "nbformat_minor": 0
}